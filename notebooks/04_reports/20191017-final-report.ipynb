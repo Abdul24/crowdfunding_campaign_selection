{
 "cells": [
  {
   "cell_type": "markdown",
   "metadata": {},
   "source": [
    "# KICKSTARTER CAMPAIGN SUCCESS PREDICTION\n",
    "\n",
    "* Date Published: 2019/10/18\n",
    "* Data Source: https://webrobots.io/kickstarter-datasets/\n",
    "\n",
    "## Introduction \n",
    "Kickstarter is a US based global crowd funding platform focused on bringing funding to creative projects. Since the platform’s launch in 2009, the site has hosted over 159,000 successfully funded projects with over 15 million unique backers. Kickstarter uses an “all-or-nothing” funding system. This means that funds are only dispersed for projects that meet the original funding goal set by the creator.\n",
    "\n",
    "### Project Objective\n",
    "Kickstarter earns 5% commission on projects that are successfully funded. Currently, less than 40% of projects on the platform succeed. The objective is to predict which projects are likely to succeed so that these projects can be highlighted on the site either through 'staff picks' or 'featured product' lists.\n",
    "\n",
    "### Proposed Solutions\n",
    "Predict Successful Campaigns and promote those with the lowest predicted probability of being successful.\n",
    "Contact creators from those campaigns that are just below the “success” margin and give them insights that could help them succeed."
   ]
  },
  {
   "cell_type": "code",
   "execution_count": 1,
   "metadata": {},
   "outputs": [],
   "source": [
    "import functools\n",
    "import glob\n",
    "import io\n",
    "import matplotlib.pyplot as plt\n",
    "import matplotlib.dates as mdates\n",
    "import matplotlib.cbook as cbook\n",
    "import numpy as np\n",
    "import os\n",
    "import pandas as pd \n",
    "import seaborn as sns\n",
    "import sys\n",
    "\n",
    "import warnings\n",
    "warnings.filterwarnings('ignore')\n",
    "\n",
    "src_dir = os.path.join(os.getcwd(), '..', '..', 'src')\n",
    "sys.path.append(src_dir)\n",
    "\n",
    "pd.set_option('display.max_columns', None)\n",
    "\n",
    "from d02_processing.intermediate_cleaning import kickstarter_deduped_to_intermediate\n",
    "from d02_processing.feature_engineering import kickstarter_feature_engineering\n",
    "from d03_models.model_class import modelSelection\n",
    "from d03_models.data_split import data_split\n",
    "\n",
    "%load_ext autoreload\n",
    "\n",
    "# reload modules so that as you change code in src, it gets loaded\n",
    "%autoreload"
   ]
  },
  {
   "cell_type": "markdown",
   "metadata": {},
   "source": [
    "## Exploratory Data Analysis"
   ]
  },
  {
   "cell_type": "markdown",
   "metadata": {},
   "source": [
    "### Filter out Columns"
   ]
  },
  {
   "cell_type": "markdown",
   "metadata": {},
   "source": [
    "**Here put the function used to deduplicate the original dataset. Also tell them what datasets you took originally from the website**"
   ]
  },
  {
   "cell_type": "code",
   "execution_count": 2,
   "metadata": {},
   "outputs": [],
   "source": [
    "kick_deduped = pd.read_csv('../../data/02_intermediate/kick_deduped.csv.zip')"
   ]
  },
  {
   "cell_type": "code",
   "execution_count": 3,
   "metadata": {},
   "outputs": [],
   "source": [
    "kick_inter = kickstarter_deduped_to_intermediate(kick_deduped)"
   ]
  },
  {
   "cell_type": "code",
   "execution_count": 4,
   "metadata": {},
   "outputs": [
    {
     "name": "stdout",
     "output_type": "stream",
     "text": [
      "Total number of Columns:  42\n"
     ]
    }
   ],
   "source": [
    "print(\"Total number of Columns: \", len(kick_inter.columns))"
   ]
  },
  {
   "cell_type": "markdown",
   "metadata": {},
   "source": [
    "Our current dataset has 42 columns. We first need to narrow the columns down that we would like to work with. Since we are trying to predict whether or not a Kickstarter campaign will be successful or fail, we need to ensure that we are not using any features that contain \"future information\" (i.e. number of backers or amount pledged), because these features could be proxies for our target variable.\n",
    "\n",
    "After taking a look through our data dictionary (located in the reference folder in the repository), we have identified 25 columns that we need to drop before building our model.\n",
    "\n",
    "__**Columns to Drop:**__\n",
    "\n",
    "1. **backers_count**: This is the number of people who backed the project. This column contains \"future information\" and could act as a proxy for our target variable.\n",
    "1. **currency_symbol**: This feature is redundant with the currency feature.\n",
    "1. **currency_trailing_code**: This feature is redundant with the currency feature.\n",
    "1. **converted pledge amount**: This feature contains the amount of money that has been pledged to the campaign. This feature contains \"future information\" and could be used as a proxy for the target variable.\n",
    "1. **current_currency**: This column is redundant with the currency column\n",
    "1. **friends**: This column is 99% empty.\n",
    "1. **ID**: Unique identifier for the campaign. Will need to be dropped before learning the model.\n",
    "1. **Name**: Unique identifier for the campaign. Will need to be dropped before learning the model.\n",
    "1. **is_backing**: This column is ~ 99% empty\n",
    "1. **is_starrable**: This column contains \"future information\" regarding how successful Kickstarter believes the campaign will be.\n",
    "1. **Permissions**: this column is 99% empty\n",
    "1. **slug**: this column is redundant with name.\n",
    "1. **source_url**: This is not needed for model building.\n",
    "1. **spotlight**: This column contains \"future information\" regarding how successful Kickstarter believes the campaign will be.\n",
    "1. **staff_pick**: This column contains \"future information\" regarding how successful Kickstarter believes the campaign will be.\n",
    "1. **unread_message_count**: This column is empty.\n",
    "1. **unseen_activity_count**: This column is empty.\n",
    "1. **URL**: This is not needed for model building.\n",
    "1. **usd_pleged**: Redundant with the currency column.\n",
    "1. **country**: Redundant with the currency column (does not actually reflect where the campaign is.\n",
    "1. **creator_name**: Unnecessary information.\n",
    "1. **creator_slug**: Unnecessary information.\n",
    "1. **disabled_communication**: False for all campaigns that have ended.\n",
    "1. **last_update_published_at**: Column is empty."
   ]
  },
  {
   "cell_type": "code",
   "execution_count": 5,
   "metadata": {},
   "outputs": [],
   "source": [
    "kick_inter.drop(columns=['backers_count', 'converted_pledged_amount', 'country', 'currency_symbol', \n",
    "                         'currency_trailing_code', 'current_currency', 'disable_communication', 'friends', \n",
    "                         'is_backing', 'is_starrable', 'is_starred', 'last_update_published_at', \n",
    "                         'permissions', 'pledged', 'slug', 'source_url', 'spotlight', 'staff_pick', \n",
    "                         'static_usd_rate', 'unread_messages_count', 'unseen_activity_count', \n",
    "                         'urls', 'usd_pledged', 'usd_type'], \n",
    "                inplace=True)"
   ]
  },
  {
   "cell_type": "markdown",
   "metadata": {},
   "source": [
    "Let's take a closer look at our 11 remaining columns: "
   ]
  },
  {
   "cell_type": "code",
   "execution_count": 6,
   "metadata": {},
   "outputs": [
    {
     "name": "stdout",
     "output_type": "stream",
     "text": [
      "<class 'pandas.core.frame.DataFrame'>\n",
      "RangeIndex: 332899 entries, 0 to 332898\n",
      "Data columns (total 18 columns):\n",
      "blurb               332889 non-null object\n",
      "created_at          332899 non-null datetime64[ns]\n",
      "currency            332899 non-null object\n",
      "deadline            332899 non-null datetime64[ns]\n",
      "fx_rate             185035 non-null float64\n",
      "goal                332899 non-null float64\n",
      "id                  332899 non-null int64\n",
      "launched_at         332899 non-null datetime64[ns]\n",
      "name                332898 non-null object\n",
      "state               332899 non-null object\n",
      "state_changed_at    332899 non-null datetime64[ns]\n",
      "sub_category        332899 non-null object\n",
      "overall_category    332899 non-null object\n",
      "city                331832 non-null object\n",
      "country_loc         331832 non-null object\n",
      "state_loc           331832 non-null object\n",
      "creator_name        332899 non-null object\n",
      "creator_slug        332899 non-null object\n",
      "dtypes: datetime64[ns](4), float64(2), int64(1), object(11)\n",
      "memory usage: 45.7+ MB\n"
     ]
    }
   ],
   "source": [
    "kick_inter.info()"
   ]
  },
  {
   "cell_type": "markdown",
   "metadata": {},
   "source": [
    "### Explore Remaining Columns"
   ]
  },
  {
   "cell_type": "markdown",
   "metadata": {},
   "source": [
    "#### Created At"
   ]
  },
  {
   "cell_type": "code",
   "execution_count": 7,
   "metadata": {},
   "outputs": [
    {
     "name": "stdout",
     "output_type": "stream",
     "text": [
      "Earliest Kickstarter Campaign in the Dataset:  2009-04-21 17:35:35\n",
      "Latest Kickstarter Campaign in the Dataset:  2019-07-18 00:54:35\n"
     ]
    }
   ],
   "source": [
    "print('Earliest Kickstarter Campaign in the Dataset: ', kick_inter.created_at.min())\n",
    "print('Latest Kickstarter Campaign in the Dataset: ', kick_inter.created_at.max())"
   ]
  },
  {
   "cell_type": "code",
   "execution_count": 8,
   "metadata": {},
   "outputs": [
    {
     "name": "stdout",
     "output_type": "stream",
     "text": [
      "Average Number of Campaigns Launched Each Month:  2685.0\n"
     ]
    },
    {
     "data": {
      "image/png": "[encoded data removed]",
      "text/plain": [
       "<Figure size 1080x720 with 1 Axes>"
      ]
     },
     "metadata": {
      "needs_background": "light"
     },
     "output_type": "display_data"
    }
   ],
   "source": [
    "kick_inter['year_month'] = pd.to_datetime(kick_inter['created_at']).dt.to_period('M')\n",
    "created_date_count = kick_inter.year_month.value_counts().to_frame().reset_index().\\\n",
    "    rename(columns={'index':'date', 'year_month': 'count'})\n",
    "\n",
    "created_date_count.sort_values(by='date', inplace=True)\n",
    "\n",
    "# average number of campaings launched each month\n",
    "print('Average Number of Campaigns Launched Each Month: ', np.round(created_date_count['count'].mean()))\n",
    "\n",
    "plt.figure(figsize=[15,10])\n",
    "ax = sns.barplot(created_date_count['date'], created_date_count['count'], color='grey')\n",
    "ax.set_xticklabels(ax.get_xticklabels(), \n",
    "                   rotation=40)\n",
    "\n",
    "# plt.locator_params(axis='x', nbins=10)\n",
    "# ax.xaxis.set_major_locator(MultipleLocator(20))\n",
    "plt.xlabel(\"Date Campaign was Created\")\n",
    "plt.ylabel(\"Number of Kickstarter Campaigns\")\n",
    "plt.title('Histogram of Kickstarter Campaign Launch by Date')\n",
    "\n",
    "plt.show()"
   ]
  },
  {
   "cell_type": "markdown",
   "metadata": {},
   "source": [
    "#### Goal & FX Rate"
   ]
  },
  {
   "cell_type": "code",
   "execution_count": 9,
   "metadata": {},
   "outputs": [
    {
     "data": {
      "text/plain": [
       "14"
      ]
     },
     "execution_count": 9,
     "metadata": {},
     "output_type": "execute_result"
    }
   ],
   "source": [
    "kick_inter['currency'].nunique()"
   ]
  },
  {
   "cell_type": "markdown",
   "metadata": {},
   "source": [
    "The goal feature is in 14 different currencies (with USD and GBP as the most frequent). In order to build a model, we are going to have to convert all goal amounts to the same scale (USD) so that our model can interpret the feature correctly."
   ]
  },
  {
   "cell_type": "markdown",
   "metadata": {},
   "source": [
    "#### Overall category"
   ]
  },
  {
   "cell_type": "markdown",
   "metadata": {},
   "source": [
    "Kickstarter campaigns fall into 1 of over 170 different overall categories and any number of 159 different sub-categories. The information both columns is repetitive. Since the sub-category has more specific information, I'd like to retain this category for further analysis."
   ]
  },
  {
   "cell_type": "code",
   "execution_count": 10,
   "metadata": {},
   "outputs": [
    {
     "data": {
      "text/html": [
       "<div>\n",
       "<style scoped>\n",
       "    .dataframe tbody tr th:only-of-type {\n",
       "        vertical-align: middle;\n",
       "    }\n",
       "\n",
       "    .dataframe tbody tr th {\n",
       "        vertical-align: top;\n",
       "    }\n",
       "\n",
       "    .dataframe thead th {\n",
       "        text-align: right;\n",
       "    }\n",
       "</style>\n",
       "<table border=\"1\" class=\"dataframe\">\n",
       "  <thead>\n",
       "    <tr style=\"text-align: right;\">\n",
       "      <th></th>\n",
       "      <th>sub_category</th>\n",
       "      <th>overall_category</th>\n",
       "    </tr>\n",
       "  </thead>\n",
       "  <tbody>\n",
       "    <tr>\n",
       "      <td>0</td>\n",
       "      <td>Apparel</td>\n",
       "      <td>fashion/apparel</td>\n",
       "    </tr>\n",
       "    <tr>\n",
       "      <td>1</td>\n",
       "      <td>Tabletop Games</td>\n",
       "      <td>games/tabletop games</td>\n",
       "    </tr>\n",
       "    <tr>\n",
       "      <td>2</td>\n",
       "      <td>Fashion</td>\n",
       "      <td>fashion</td>\n",
       "    </tr>\n",
       "    <tr>\n",
       "      <td>3</td>\n",
       "      <td>Music</td>\n",
       "      <td>music</td>\n",
       "    </tr>\n",
       "    <tr>\n",
       "      <td>4</td>\n",
       "      <td>Drama</td>\n",
       "      <td>film &amp; video/drama</td>\n",
       "    </tr>\n",
       "  </tbody>\n",
       "</table>\n",
       "</div>"
      ],
      "text/plain": [
       "     sub_category      overall_category\n",
       "0         Apparel       fashion/apparel\n",
       "1  Tabletop Games  games/tabletop games\n",
       "2         Fashion               fashion\n",
       "3           Music                 music\n",
       "4           Drama    film & video/drama"
      ]
     },
     "execution_count": 10,
     "metadata": {},
     "output_type": "execute_result"
    }
   ],
   "source": [
    "kick_inter[['sub_category', 'overall_category']].head()"
   ]
  },
  {
   "cell_type": "code",
   "execution_count": 11,
   "metadata": {
    "scrolled": true
   },
   "outputs": [
    {
     "name": "stdout",
     "output_type": "stream",
     "text": [
      "Number of Categories in the \"overall_category\" column:  170\n",
      "\n",
      " Top 10 Categories in overall_category column:\n"
     ]
    },
    {
     "data": {
      "text/html": [
       "<div>\n",
       "<style scoped>\n",
       "    .dataframe tbody tr th:only-of-type {\n",
       "        vertical-align: middle;\n",
       "    }\n",
       "\n",
       "    .dataframe tbody tr th {\n",
       "        vertical-align: top;\n",
       "    }\n",
       "\n",
       "    .dataframe thead th {\n",
       "        text-align: right;\n",
       "    }\n",
       "</style>\n",
       "<table border=\"1\" class=\"dataframe\">\n",
       "  <thead>\n",
       "    <tr style=\"text-align: right;\">\n",
       "      <th></th>\n",
       "      <th>overall_category</th>\n",
       "      <th>count</th>\n",
       "    </tr>\n",
       "  </thead>\n",
       "  <tbody>\n",
       "    <tr>\n",
       "      <td>44</td>\n",
       "      <td>design/product design</td>\n",
       "      <td>18839</td>\n",
       "    </tr>\n",
       "    <tr>\n",
       "      <td>94</td>\n",
       "      <td>games/tabletop games</td>\n",
       "      <td>15431</td>\n",
       "    </tr>\n",
       "    <tr>\n",
       "      <td>95</td>\n",
       "      <td>games/video games</td>\n",
       "      <td>10717</td>\n",
       "    </tr>\n",
       "    <tr>\n",
       "      <td>135</td>\n",
       "      <td>publishing/fiction</td>\n",
       "      <td>8906</td>\n",
       "    </tr>\n",
       "    <tr>\n",
       "      <td>48</td>\n",
       "      <td>fashion/apparel</td>\n",
       "      <td>8881</td>\n",
       "    </tr>\n",
       "  </tbody>\n",
       "</table>\n",
       "</div>"
      ],
      "text/plain": [
       "          overall_category  count\n",
       "44   design/product design  18839\n",
       "94    games/tabletop games  15431\n",
       "95       games/video games  10717\n",
       "135     publishing/fiction   8906\n",
       "48         fashion/apparel   8881"
      ]
     },
     "execution_count": 11,
     "metadata": {},
     "output_type": "execute_result"
    }
   ],
   "source": [
    "print('Number of Categories in the \"overall_category\" column: ', kick_inter['overall_category'].nunique())\n",
    "\n",
    "overallcat_group = kick_inter.groupby('overall_category')['deadline'].\\\n",
    "    count().reset_index().rename(columns={'deadline':'count'})\n",
    "\n",
    "print('\\n Top 10 Categories in overall_category column:')\n",
    "overallcat_group.sort_values('count', ascending=False).head(5)"
   ]
  },
  {
   "cell_type": "code",
   "execution_count": 12,
   "metadata": {},
   "outputs": [],
   "source": [
    "mask_overall = (kick_inter['overall_category']=='games/tabletop games') |\\\n",
    "       (kick_inter['overall_category']=='design/product design') |\\\n",
    "       (kick_inter['overall_category']=='fashion/apparel') |\\\n",
    "       (kick_inter['overall_category']=='games/video games') |\\\n",
    "       (kick_inter['overall_category']=='publishing/fiction')"
   ]
  },
  {
   "cell_type": "code",
   "execution_count": 13,
   "metadata": {},
   "outputs": [
    {
     "data": {
      "text/plain": [
       "overall_category       state     \n",
       "design/product design  live           8210\n",
       "                       successful    10629\n",
       "fashion/apparel        canceled        497\n",
       "                       failed         5522\n",
       "                       live            937\n",
       "                       successful     1906\n",
       "                       suspended        19\n",
       "games/tabletop games   live           3752\n",
       "                       successful    11679\n",
       "games/video games      failed         4957\n",
       "                       live           2862\n",
       "                       successful     2898\n",
       "publishing/fiction     failed         5071\n",
       "                       live           1250\n",
       "                       successful     2585\n",
       "Name: overall_category, dtype: int64"
      ]
     },
     "execution_count": 13,
     "metadata": {},
     "output_type": "execute_result"
    }
   ],
   "source": [
    "kick_inter.loc[mask_overall].groupby(['overall_category', 'state'])['overall_category'].count()"
   ]
  },
  {
   "cell_type": "markdown",
   "metadata": {},
   "source": [
    "### Location (city/ state/ country)\n",
    "\n",
    "A location feature could be useful in predicting success of kickstarter campaigns. There are 211 countries represented in the dataset and over 12K cities. This column will need to be turned into a dummy variable for the models so city is too large. We will go with the country column for now and consider grouping this column into region)."
   ]
  },
  {
   "cell_type": "code",
   "execution_count": 14,
   "metadata": {},
   "outputs": [
    {
     "name": "stdout",
     "output_type": "stream",
     "text": [
      "Number of Countries that have produced a Kickstarter campaing:  211\n",
      "Number of Cities that have produced a Kickstarter Campaign:  12685\n"
     ]
    }
   ],
   "source": [
    "print('Number of Countries that have produced a Kickstarter campaing: ', kick_inter.country_loc.nunique())\n",
    "print('Number of Cities that have produced a Kickstarter Campaign: ', kick_inter.city.nunique())"
   ]
  },
  {
   "cell_type": "markdown",
   "metadata": {},
   "source": [
    "## FEATURE CONSTRUCTION\n",
    "After taking a look at the columns in our dataset, we have narrowed down the final list of features to train our models on.\n",
    "\n",
    "Final Features\n",
    "\n",
    "1. Blurb word count\n",
    "1. Campaign length\n",
    "1. Currency\n",
    "1. Goal (converted to USD)\n",
    "1. Delta between created_at and launched_at column\n",
    "1. Sub category\n",
    "1. Country\n",
    "1. group cluster (KNN)\n",
    "1. **state** [Target Variable]"
   ]
  },
  {
   "cell_type": "code",
   "execution_count": 15,
   "metadata": {},
   "outputs": [],
   "source": [
    "kick_proc = kickstarter_feature_engineering(kick_inter)"
   ]
  },
  {
   "cell_type": "code",
   "execution_count": 16,
   "metadata": {},
   "outputs": [
    {
     "data": {
      "text/html": [
       "<div>\n",
       "<style scoped>\n",
       "    .dataframe tbody tr th:only-of-type {\n",
       "        vertical-align: middle;\n",
       "    }\n",
       "\n",
       "    .dataframe tbody tr th {\n",
       "        vertical-align: top;\n",
       "    }\n",
       "\n",
       "    .dataframe thead th {\n",
       "        text-align: right;\n",
       "    }\n",
       "</style>\n",
       "<table border=\"1\" class=\"dataframe\">\n",
       "  <thead>\n",
       "    <tr style=\"text-align: right;\">\n",
       "      <th></th>\n",
       "      <th>currency</th>\n",
       "      <th>goal_original</th>\n",
       "      <th>id</th>\n",
       "      <th>category</th>\n",
       "      <th>overall_category</th>\n",
       "      <th>country</th>\n",
       "      <th>creator_name</th>\n",
       "      <th>creator_slug</th>\n",
       "      <th>year_month</th>\n",
       "      <th>blurb_word_count</th>\n",
       "      <th>campaign_length</th>\n",
       "      <th>delta_created_launched</th>\n",
       "      <th>goal_usd</th>\n",
       "      <th>successful_dummy</th>\n",
       "      <th>world_regions</th>\n",
       "    </tr>\n",
       "  </thead>\n",
       "  <tbody>\n",
       "    <tr>\n",
       "      <td>0</td>\n",
       "      <td>USD</td>\n",
       "      <td>5000.0</td>\n",
       "      <td>1175125319</td>\n",
       "      <td>Tabletop Games</td>\n",
       "      <td>games/tabletop games</td>\n",
       "      <td>US</td>\n",
       "      <td>quEmpire Gaming</td>\n",
       "      <td>quempire</td>\n",
       "      <td>2019-06</td>\n",
       "      <td>9.0</td>\n",
       "      <td>32</td>\n",
       "      <td>13</td>\n",
       "      <td>5000.0</td>\n",
       "      <td>1</td>\n",
       "      <td>Northern America</td>\n",
       "    </tr>\n",
       "    <tr>\n",
       "      <td>1</td>\n",
       "      <td>USD</td>\n",
       "      <td>3500.0</td>\n",
       "      <td>920424993</td>\n",
       "      <td>Music</td>\n",
       "      <td>music</td>\n",
       "      <td>US</td>\n",
       "      <td>Drank The Gold</td>\n",
       "      <td>drankthegold</td>\n",
       "      <td>2019-06</td>\n",
       "      <td>14.0</td>\n",
       "      <td>18</td>\n",
       "      <td>1</td>\n",
       "      <td>3500.0</td>\n",
       "      <td>1</td>\n",
       "      <td>Northern America</td>\n",
       "    </tr>\n",
       "    <tr>\n",
       "      <td>2</td>\n",
       "      <td>USD</td>\n",
       "      <td>500.0</td>\n",
       "      <td>1253520992</td>\n",
       "      <td>Zines</td>\n",
       "      <td>publishing/zines</td>\n",
       "      <td>US</td>\n",
       "      <td>Zahira Chaudhry</td>\n",
       "      <td></td>\n",
       "      <td>2019-07</td>\n",
       "      <td>17.0</td>\n",
       "      <td>15</td>\n",
       "      <td>1</td>\n",
       "      <td>500.0</td>\n",
       "      <td>1</td>\n",
       "      <td>Northern America</td>\n",
       "    </tr>\n",
       "    <tr>\n",
       "      <td>3</td>\n",
       "      <td>USD</td>\n",
       "      <td>6800.0</td>\n",
       "      <td>335137457</td>\n",
       "      <td>Graphic Novels</td>\n",
       "      <td>comics/graphic novels</td>\n",
       "      <td>US</td>\n",
       "      <td>Kirt Burdick</td>\n",
       "      <td>kirttrik</td>\n",
       "      <td>2019-06</td>\n",
       "      <td>12.0</td>\n",
       "      <td>30</td>\n",
       "      <td>6</td>\n",
       "      <td>6800.0</td>\n",
       "      <td>1</td>\n",
       "      <td>Northern America</td>\n",
       "    </tr>\n",
       "    <tr>\n",
       "      <td>4</td>\n",
       "      <td>USD</td>\n",
       "      <td>600.0</td>\n",
       "      <td>58084093</td>\n",
       "      <td>Mixed Media</td>\n",
       "      <td>art/mixed media</td>\n",
       "      <td>US</td>\n",
       "      <td>sassquire</td>\n",
       "      <td>sassquire</td>\n",
       "      <td>2019-06</td>\n",
       "      <td>19.0</td>\n",
       "      <td>30</td>\n",
       "      <td>0</td>\n",
       "      <td>600.0</td>\n",
       "      <td>1</td>\n",
       "      <td>Northern America</td>\n",
       "    </tr>\n",
       "  </tbody>\n",
       "</table>\n",
       "</div>"
      ],
      "text/plain": [
       "  currency  goal_original          id        category       overall_category  \\\n",
       "0      USD         5000.0  1175125319  Tabletop Games   games/tabletop games   \n",
       "1      USD         3500.0   920424993           Music                  music   \n",
       "2      USD          500.0  1253520992           Zines       publishing/zines   \n",
       "3      USD         6800.0   335137457  Graphic Novels  comics/graphic novels   \n",
       "4      USD          600.0    58084093     Mixed Media        art/mixed media   \n",
       "\n",
       "  country     creator_name  creator_slug year_month  blurb_word_count  \\\n",
       "0      US  quEmpire Gaming      quempire    2019-06               9.0   \n",
       "1      US   Drank The Gold  drankthegold    2019-06              14.0   \n",
       "2      US  Zahira Chaudhry                  2019-07              17.0   \n",
       "3      US     Kirt Burdick      kirttrik    2019-06              12.0   \n",
       "4      US        sassquire     sassquire    2019-06              19.0   \n",
       "\n",
       "   campaign_length  delta_created_launched  goal_usd  successful_dummy  \\\n",
       "0               32                      13    5000.0                 1   \n",
       "1               18                       1    3500.0                 1   \n",
       "2               15                       1     500.0                 1   \n",
       "3               30                       6    6800.0                 1   \n",
       "4               30                       0     600.0                 1   \n",
       "\n",
       "      world_regions  \n",
       "0  Northern America  \n",
       "1  Northern America  \n",
       "2  Northern America  \n",
       "3  Northern America  \n",
       "4  Northern America  "
      ]
     },
     "execution_count": 16,
     "metadata": {},
     "output_type": "execute_result"
    }
   ],
   "source": [
    "kick_proc.head()"
   ]
  },
  {
   "cell_type": "markdown",
   "metadata": {},
   "source": [
    "## Model Exploration & Tuning"
   ]
  },
  {
   "cell_type": "code",
   "execution_count": 17,
   "metadata": {},
   "outputs": [],
   "source": [
    "from sklearn.model_selection import train_test_split, RandomizedSearchCV, GridSearchCV\n",
    "from sklearn.tree import DecisionTreeClassifier\n",
    "from sklearn.ensemble import RandomForestClassifier, AdaBoostClassifier\n",
    "from sklearn.naive_bayes import BernoulliNB, GaussianNB\n",
    "from sklearn.metrics import accuracy_score, confusion_matrix, precision_score\n",
    "from sklearn.pipeline import Pipeline\n",
    "from sklearn.linear_model import LogisticRegression\n",
    "from sklearn.preprocessing import StandardScaler"
   ]
  },
  {
   "cell_type": "markdown",
   "metadata": {},
   "source": [
    "It's now time to build our first model. Because we are making decisions about what campaigns to spotlight and contact for additional help, which will cost Kickstarter money and time, we want to go with a model that has the lowest number of false positives(i.e., the model with the lowest number of campaigns that are falsely identified as successful). Because of this, we will be maximizing our model for precision."
   ]
  },
  {
   "cell_type": "code",
   "execution_count": 18,
   "metadata": {},
   "outputs": [
    {
     "name": "stdout",
     "output_type": "stream",
     "text": [
      "Number of Rows before dropping NAs:  275651\n",
      "Number of Rows after dropping NAs:  275642\n"
     ]
    }
   ],
   "source": [
    "print('Number of Rows before dropping NAs: ', len(kick_proc))\n",
    "kick_proc.dropna(inplace=True)\n",
    "print('Number of Rows after dropping NAs: ', len(kick_proc))"
   ]
  },
  {
   "cell_type": "code",
   "execution_count": 19,
   "metadata": {},
   "outputs": [],
   "source": [
    "X_feats = ['category', 'blurb_word_count', 'campaign_length', \n",
    "           'delta_created_launched', 'goal_usd','world_regions']\n",
    "\n",
    "X, y = data_split(kick_proc, 'successful_dummy', X_feats)"
   ]
  },
  {
   "cell_type": "markdown",
   "metadata": {},
   "source": [
    "Out outcome variable is also relatively balanced. We will not use any re-balancing techniques for now."
   ]
  },
  {
   "cell_type": "code",
   "execution_count": 31,
   "metadata": {},
   "outputs": [
    {
     "data": {
      "text/plain": [
       "1    146584\n",
       "0    129058\n",
       "Name: successful_dummy, dtype: int64"
      ]
     },
     "execution_count": 31,
     "metadata": {},
     "output_type": "execute_result"
    }
   ],
   "source": [
    "y.value_counts()"
   ]
  },
  {
   "cell_type": "markdown",
   "metadata": {},
   "source": [
    "### Baseline Model - Decision Tree"
   ]
  },
  {
   "cell_type": "code",
   "execution_count": 34,
   "metadata": {},
   "outputs": [
    {
     "name": "stdout",
     "output_type": "stream",
     "text": [
      "Acccuracy Score:  0.7026599526926035\n",
      "Precision:  0.7218255711775043\n",
      "Recall 0.7172952027506413\n",
      "\n",
      "\n",
      "Confusion Matrix:\n",
      "          predicted 0  predicted 1\n",
      "actual 0        22135        10130\n",
      "actual 1        10360        26286\n"
     ]
    }
   ],
   "source": [
    "dtc = DecisionTreeClassifier(random_state=88)\n",
    "dtc_selection = modelSelection(dtc, X, y)\n",
    "dtc_selection.train_test_split_func()\n",
    "dtc_selection.fit_func()\n",
    "dtc_selection.predict_func()\n",
    "dtc_selection.model_evaluation()"
   ]
  },
  {
   "cell_type": "markdown",
   "metadata": {},
   "source": [
    "### Bagging Model - Random Forest"
   ]
  },
  {
   "cell_type": "code",
   "execution_count": 26,
   "metadata": {},
   "outputs": [],
   "source": [
    "X_train, X_test, y_train, y_test = train_test_split(X, y, stratify=y, random_state=88)"
   ]
  },
  {
   "cell_type": "markdown",
   "metadata": {},
   "source": [
    "Parameter tuning"
   ]
  },
  {
   "cell_type": "code",
   "execution_count": 27,
   "metadata": {},
   "outputs": [
    {
     "data": {
      "text/plain": [
       "{'rfc__n_estimators': 166,\n",
       " 'rfc__min_samples_split': 5,\n",
       " 'rfc__min_samples_leaf': 2,\n",
       " 'rfc__max_depth': 6,\n",
       " 'rfc__criterion': 'entropy'}"
      ]
     },
     "execution_count": 27,
     "metadata": {},
     "output_type": "execute_result"
    }
   ],
   "source": [
    "steps = [('rfc', RandomForestClassifier())]\n",
    "\n",
    "pipeline = Pipeline(steps)\n",
    "\n",
    "parameters = {'rfc__n_estimators':list(range(1, 200, 5)), \n",
    "             'rfc__criterion': ['gini', 'entropy'], \n",
    "             'rfc__max_depth': list(range(1, 10, 1)), \n",
    "             'rfc__min_samples_split': list(range(2, 10, 1)), \n",
    "             'rfc__min_samples_leaf': list(range(1, 5, 1))}\n",
    "\n",
    "randomCV = RandomizedSearchCV(pipeline, parameters, cv=10)\n",
    "\n",
    "randomCV.fit(X_train, y_train)\n",
    "\n",
    "# best parameters that were chosen \n",
    "randomCV.best_params_"
   ]
  },
  {
   "cell_type": "code",
   "execution_count": 32,
   "metadata": {},
   "outputs": [],
   "source": [
    "rfc = RandomForestClassifier(n_estimators=166, min_samples_split=5, \n",
    "                             min_samples_leaf=2, max_depth=6, \n",
    "                             criterion='entropy', \n",
    "                            random_state=88)\n",
    "rfc_selection = modelSelection(rfc, X, y)"
   ]
  },
  {
   "cell_type": "code",
   "execution_count": 33,
   "metadata": {},
   "outputs": [
    {
     "name": "stdout",
     "output_type": "stream",
     "text": [
      "Acccuracy Score:  0.7026599526926035\n",
      "Precision:  0.7218255711775043\n",
      "Recall 0.7172952027506413\n",
      "\n",
      "\n",
      "Confusion Matrix:\n",
      "          predicted 0  predicted 1\n",
      "actual 0        22135        10130\n",
      "actual 1        10360        26286\n"
     ]
    }
   ],
   "source": [
    "dtc_selection.train_test_split_func()\n",
    "dtc_selection.fit_func()\n",
    "dtc_selection.predict_func()\n",
    "dtc_selection.model_evaluation()"
   ]
  },
  {
   "cell_type": "code",
   "execution_count": null,
   "metadata": {},
   "outputs": [],
   "source": []
  }
 ],
 "metadata": {
  "kernelspec": {
   "display_name": "Python 3",
   "language": "python",
   "name": "python3"
  },
  "language_info": {
   "codemirror_mode": {
    "name": "ipython",
    "version": 3
   },
   "file_extension": ".py",
   "mimetype": "text/x-python",
   "name": "python",
   "nbconvert_exporter": "python",
   "pygments_lexer": "ipython3",
   "version": "3.7.4"
  },
  "toc": {
   "base_numbering": 1,
   "nav_menu": {},
   "number_sections": true,
   "sideBar": true,
   "skip_h1_title": true,
   "title_cell": "Table of Contents",
   "title_sidebar": "Contents",
   "toc_cell": false,
   "toc_position": {},
   "toc_section_display": true,
   "toc_window_display": true
  }
 },
 "nbformat": 4,
 "nbformat_minor": 2
}
