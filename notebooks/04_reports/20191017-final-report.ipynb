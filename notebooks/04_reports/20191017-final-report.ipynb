{
 "cells": [
  {
   "cell_type": "markdown",
   "metadata": {},
   "source": [
    "# KICKSTARTER CAMPAIGN SUCCESS PREDICTION\n",
    "\n",
    "* Date Published: 2019/10/18\n",
    "* Data Source: https://webrobots.io/kickstarter-datasets/\n",
    "\n",
    "## Introduction \n",
    "Kickstarter is a US based global crowd funding platform focused on bringing funding to creative projects. Since the platform’s launch in 2009, the site has hosted over 159,000 successfully funded projects with over 15 million unique backers. Kickstarter uses an “all-or-nothing” funding system. This means that funds are only dispersed for projects that meet the original funding goal set by the creator.\n",
    "\n",
    "### Project Objective\n",
    "Kickstarter earns 5% commission on projects that are successfully funded. Currently, less than 40% of projects on the platform succeed. The objective is to predict which projects are likely to succeed so that these projects can be highlighted on the site either through 'staff picks' or 'featured product' lists.\n",
    "\n",
    "### Proposed Solutions\n",
    "Predict Successful Campaigns and promote those with the lowest predicted probability of being successful.\n",
    "Contact creators from those campaigns that are just below the “success” margin and give them insights that could help them succeed."
   ]
  },
  {
   "cell_type": "code",
   "execution_count": 8,
   "metadata": {},
   "outputs": [],
   "source": [
    "import functools\n",
    "import glob\n",
    "import io\n",
    "import matplotlib.pyplot as plt\n",
    "import numpy as np\n",
    "import os\n",
    "import pandas as pd \n",
    "import seaborn as sns\n",
    "import sys\n",
    "\n",
    "src_dir = os.path.join(os.getcwd(), '..', '..', 'src')\n",
    "sys.path.append(src_dir)\n",
    "\n",
    "pd.set_option('display.max_columns', None)\n",
    "\n",
    "from d02_processing.intermediate_cleaning import kickstarter_deduped_to_intermediate"
   ]
  },
  {
   "cell_type": "markdown",
   "metadata": {},
   "source": [
    "## EXPLORATORY DATA ANALYSIS"
   ]
  },
  {
   "cell_type": "markdown",
   "metadata": {},
   "source": [
    "**Here put the function used to deduplicate the original dataset. Also tell them what datasets you took originally from the website**"
   ]
  },
  {
   "cell_type": "code",
   "execution_count": 2,
   "metadata": {},
   "outputs": [
    {
     "name": "stderr",
     "output_type": "stream",
     "text": [
      "/usr/local/lib/python3.7/site-packages/IPython/core/interactiveshell.py:3058: DtypeWarning: Columns (14,18,19,20,25) have mixed types. Specify dtype option on import or set low_memory=False.\n",
      "  interactivity=interactivity, compiler=compiler, result=result)\n"
     ]
    }
   ],
   "source": [
    "kick_deduped = pd.read_csv('../../data/02_intermediate/kick_deduped.csv.zip')"
   ]
  },
  {
   "cell_type": "code",
   "execution_count": 9,
   "metadata": {},
   "outputs": [],
   "source": [
    "kick_inter = kickstarter_deduped_to_intermediate(kick_deduped)"
   ]
  },
  {
   "cell_type": "code",
   "execution_count": 11,
   "metadata": {},
   "outputs": [
    {
     "name": "stdout",
     "output_type": "stream",
     "text": [
      "<class 'pandas.core.frame.DataFrame'>\n",
      "RangeIndex: 332899 entries, 0 to 332898\n",
      "Data columns (total 42 columns):\n",
      "backers_count               332899 non-null int64\n",
      "blurb                       332889 non-null object\n",
      "converted_pledged_amount    195183 non-null float64\n",
      "country                     332899 non-null object\n",
      "created_at                  332899 non-null datetime64[ns]\n",
      "currency                    332899 non-null object\n",
      "currency_symbol             332899 non-null object\n",
      "currency_trailing_code      332899 non-null bool\n",
      "current_currency            195183 non-null object\n",
      "deadline                    332899 non-null datetime64[ns]\n",
      "disable_communication       332899 non-null bool\n",
      "friends                     1629 non-null object\n",
      "fx_rate                     185035 non-null float64\n",
      "goal                        332899 non-null float64\n",
      "id                          332899 non-null int64\n",
      "is_backing                  1629 non-null object\n",
      "is_starrable                206127 non-null object\n",
      "is_starred                  1629 non-null object\n",
      "last_update_published_at    0 non-null float64\n",
      "launched_at                 332899 non-null datetime64[ns]\n",
      "name                        332898 non-null object\n",
      "permissions                 1498 non-null object\n",
      "pledged                     332899 non-null float64\n",
      "slug                        332899 non-null object\n",
      "source_url                  288499 non-null object\n",
      "spotlight                   332899 non-null bool\n",
      "staff_pick                  332899 non-null bool\n",
      "state                       332899 non-null object\n",
      "state_changed_at            332899 non-null datetime64[ns]\n",
      "static_usd_rate             332899 non-null float64\n",
      "unread_messages_count       0 non-null float64\n",
      "unseen_activity_count       0 non-null float64\n",
      "urls                        332899 non-null object\n",
      "usd_pledged                 332899 non-null float64\n",
      "usd_type                    193390 non-null object\n",
      "sub_category                332899 non-null object\n",
      "overall_category            332899 non-null object\n",
      "city                        331832 non-null object\n",
      "country_loc                 331832 non-null object\n",
      "state_loc                   331832 non-null object\n",
      "creator_name                332899 non-null object\n",
      "creator_slug                332899 non-null object\n",
      "dtypes: bool(4), datetime64[ns](4), float64(9), int64(2), object(23)\n",
      "memory usage: 97.8+ MB\n"
     ]
    }
   ],
   "source": [
    "kick_inter.info()"
   ]
  },
  {
   "cell_type": "markdown",
   "metadata": {},
   "source": [
    "Our current dataset has 42 columns. We first need to narrow the columns down that we would like to work with. Since we are trying to predict whether or not a Kickstarter campaign will be successful or fail, we need to ensure that we are not using any features that contain \"future information\" (i.e. number of backers or amount pledged), because these features could be proxies for our target variable.\n",
    "\n",
    "After taking a look through our data dictionary (located in the reference folder in the repository), we have identified 25 columns that we need to drop before building our model.\n",
    "\n",
    "__**Columns to Drop:**__\n",
    "\n",
    "1. **backers_count**: This is the number of people who backed the project. This column contains \"future information\" and could act as a proxy for our target variable.\n",
    "1. **blurb**: This is a short description of the project. We created a new column (blurb count) and will drop this feature.\n",
    "1. **currency_symbol**: This feature is redundant with the currency feature.\n",
    "1. **currency_trailing_code**: This feature is redundant with the currency feature.\n",
    "1. **converted pledge amount**: This feature contains the amount of money that has been pledged to the campaign. This feature contains \"future information\" and could be used as a proxy for the target variable.\n",
    "1. **current_currency**: This column is redundant with the currency column\n",
    "1. **friends**: This column is 99% empty.\n",
    "1. **ID**: Unique identifier for the campaign. Will need to be dropped before learning the model.\n",
    "1. **Name**: Unique identifier for the campaign. Will need to be dropped before learning the model.\n",
    "1. **is_backing**: This column is ~ 99% empty\n",
    "1. **is_starrable**: This column contains \"future information\" regarding how successful Kickstarter believes the campaign will be.\n",
    "1. **Permissions**: this column is 99% empty\n",
    "1. **slug**: this column is redundant with name.\n",
    "1. **source_url**: This is not needed for model building.\n",
    "1. **spotlight**: This column contains \"future information\" regarding how successful Kickstarter believes the campaign will be.\n",
    "1. **staff_pick**: This column contains \"future information\" regarding how successful Kickstarter believes the campaign will be.\n",
    "1. **unread_message_count**: This column is empty.\n",
    "1. **unseen_activity_count**: This column is empty.\n",
    "1. **URL**: This is not needed for model building.\n",
    "1. **usd_pleged**: Redundant with the currency column.\n",
    "1. **country**: Redundant with the currency column (does not actually reflect where the campaign is.\n",
    "1. **creator_name**: Unnecessary information.\n",
    "1. **creator_slug**: Unnecessary information.\n",
    "1. **disabled_communication**: False for all campaigns that have ended.\n",
    "1. **last_update_published_at**: Column is empty."
   ]
  },
  {
   "cell_type": "markdown",
   "metadata": {},
   "source": [
    "Let's take a closer look at our remaining 12 columns:\n",
    "\n",
    "1. **created at**: (datetime)\n",
    "1. **currency**: (categorical)\n",
    "1. **deadline**: (datetime)\n",
    "1. **fx rate (exchange rate)**: (quantitative)\n",
    "1. **goal**: (quantitative)\n",
    "1. **launched at**: (datetime)\n",
    "1. **sub category**: (categorical)\n",
    "1. **overall category**: (categorical)\n",
    "1. **city**: (categorical)\n",
    "1. **country loc**: (categorical)\n",
    "1. **state loc**: (categorical)"
   ]
  },
  {
   "cell_type": "code",
   "execution_count": null,
   "metadata": {},
   "outputs": [],
   "source": []
  }
 ],
 "metadata": {
  "kernelspec": {
   "display_name": "Python 3",
   "language": "python",
   "name": "python3"
  },
  "language_info": {
   "codemirror_mode": {
    "name": "ipython",
    "version": 3
   },
   "file_extension": ".py",
   "mimetype": "text/x-python",
   "name": "python",
   "nbconvert_exporter": "python",
   "pygments_lexer": "ipython3",
   "version": "3.7.4"
  },
  "toc": {
   "base_numbering": 1,
   "nav_menu": {},
   "number_sections": true,
   "sideBar": true,
   "skip_h1_title": false,
   "title_cell": "Table of Contents",
   "title_sidebar": "Contents",
   "toc_cell": false,
   "toc_position": {},
   "toc_section_display": true,
   "toc_window_display": false
  }
 },
 "nbformat": 4,
 "nbformat_minor": 2
}
