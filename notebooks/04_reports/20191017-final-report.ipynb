{
 "cells": [
  {
   "attachments": {},
   "cell_type": "markdown",
   "metadata": {},
   "source": [
    "# Finding the Probability of Success for Crowdfunding Campaigns\n",
    "\n",
    "* Data Source: https://webrobots.io/kickstarter-datasets/\n",
    "\n",
    "## Introduction \n",
    "Kickstarter is a US based global crowd funding platform focused on bringing funding to creative projects. Since the platform’s launch in 2009, the site has hosted over 159,000 successfully funded projects with over 15 million unique backers. Kickstarter uses an “all-or-nothing” funding system. This means that funds are only dispersed for projects that meet the original goal set by the creator.\n",
    "\n",
    "### Project Objective\n",
    "Kickstarter earns 5% commission on projects that are successfully funded. Currently, less than 40% of projects on the platform succeed. The objective is to build a model that can take in a campaign description (campaign duration, category, fundraising amount, etc.) and produce a probability of success. Kickstarter would then use this information - along with other factors such as cost of promotion, promotion budget, etc. - to determine which campaigns to promote with the end goal of increasing the percentage of successful campaigns.\n",
    "\n",
    "### Summary of Results\n",
    "Out of the six tested models, the logistic regression model was chosen for both its high precision score and ease of interpretability. The final model shows the importance of campaign categories in the success or failure of a campaign."
   ]
  },
  {
   "cell_type": "code",
   "execution_count": 1,
   "metadata": {},
   "outputs": [],
   "source": [
    "import functools\n",
    "import glob\n",
    "import io\n",
    "import matplotlib.pyplot as plt\n",
    "import matplotlib.dates as mdates\n",
    "import matplotlib.cbook as cbook\n",
    "import numpy as np\n",
    "import os\n",
    "import pandas as pd\n",
    "import seaborn as sns\n",
    "import sys\n",
    "\n",
    "import warnings\n",
    "warnings.filterwarnings('ignore')\n",
    "\n",
    "src_dir = os.path.join(os.getcwd(), '..', '..', 'src')\n",
    "sys.path.append(src_dir)\n",
    "\n",
    "from d03_models.data_split import data_split\n",
    "from d03_models.model_class import modelSelection\n",
    "from d02_processing.feature_engineering import kickstarter_feature_engineering\n",
    "from d02_processing.intermediate_cleaning import kickstarter_deduped_to_intermediate\n",
    "\n",
    "pd.set_option('display.max_columns', None)\n",
    "\n",
    "%load_ext autoreload\n",
    "\n",
    "%autoreload"
   ]
  },
  {
   "cell_type": "markdown",
   "metadata": {},
   "source": [
    "## Exploratory Analysis of the Dataset (EDA) "
   ]
  },
  {
   "cell_type": "markdown",
   "metadata": {},
   "source": [
    "### Delete unneeded columns\n",
    "\n",
    "**Note**: ``kickstarter_deduped_to_intermediate`` function can be found in the ``src/d02_preprocessing/intermediate_cleaning.py`` file."
   ]
  },
  {
   "cell_type": "code",
   "execution_count": 2,
   "metadata": {},
   "outputs": [],
   "source": [
    "kick_deduped = pd.read_csv('../../data/02_intermediate/kick_deduped.csv.zip')\n",
    "kick_inter = kickstarter_deduped_to_intermediate(kick_deduped)"
   ]
  },
  {
   "cell_type": "code",
   "execution_count": 3,
   "metadata": {},
   "outputs": [
    {
     "name": "stdout",
     "output_type": "stream",
     "text": [
      "Total number of Columns:  42\n"
     ]
    }
   ],
   "source": [
    "print(\"Total number of Columns: \", len(kick_inter.columns))"
   ]
  },
  {
   "attachments": {},
   "cell_type": "markdown",
   "metadata": {},
   "source": [
    "The raw dataset contains 42 columns. Since we are attempting to predict the probability that a campaign will be successful, we need to ensure that we are not using any features that contain \"future information\" (i.e. number of backers or amount pledged).  After taking a look through our data dictionary (located in the ``reference`` folder), we have identified 25 columns that need to be dropped. \n",
    "\n",
    "__**Columns to Drop:**__\n",
    "\n",
    "1. **backers_count**: This is the number of people who backed the project. This column contains \"future information\" and could act as a proxy for our target variable.\n",
    "1. **currency_symbol**: This feature is redundant with the currency feature.\n",
    "1. **currency_trailing_code**: This feature is redundant with the currency feature.\n",
    "1. **converted pledge amount**: This feature contains the amount of money that has been pledged to the campaign. This feature contains \"future information\" and could be used as a proxy for the target variable.\n",
    "1. **current_currency**: This column is redundant with the currency column\n",
    "1. **friends**: This column is 99% empty.\n",
    "1. **ID**: Unique identifier for the campaign. Will need to be dropped before learning the model.\n",
    "1. **Name**: Unique identifier for the campaign. Will need to be dropped before learning the model.\n",
    "1. **is_backing**: This column is ~ 99% empty\n",
    "1. **is_starrable**: This column contains \"future information\" regarding how successful Kickstarter believes the campaign will be.\n",
    "1. **Permissions**: this column is 99% empty\n",
    "1. **slug**: this column is redundant with name.\n",
    "1. **source_url**: This is not needed for model building.\n",
    "1. **spotlight**: This column is redundant with our outcome variable (ever successful kickstarter campaign receives a spotlight page). \n",
    "1. **staff_pick**: This column contains information regarding how successful Kickstarter believes the campaign will be.\n",
    "1. **unread_message_count**: Empty column. \n",
    "1. **unseen_activity_count**: Empty column.\n",
    "1. **URL**: This is not needed for model building.\n",
    "1. **usd_pleged**: Redundant with the currency column.\n",
    "1. **country**: Redundant with the currency column (does not actually reflect where the campaign is.\n",
    "1. **creator_name**: Unnecessary information.\n",
    "1. **creator_slug**: Unnecessary information.\n",
    "1. **disabled_communication**: False for all campaigns that have ended.\n",
    "1. **last_update_published_at**:  Empty column."
   ]
  },
  {
   "cell_type": "code",
   "execution_count": 4,
   "metadata": {},
   "outputs": [],
   "source": [
    "kick_inter.drop(columns=['backers_count', 'converted_pledged_amount', 'country', 'currency_symbol',\n",
    "                         'currency_trailing_code', 'current_currency', 'disable_communication', 'friends',\n",
    "                         'is_backing', 'is_starrable', 'is_starred', 'last_update_published_at',\n",
    "                         'permissions', 'pledged', 'slug', 'source_url', 'spotlight', 'staff_pick',\n",
    "                         'static_usd_rate', 'unread_messages_count', 'unseen_activity_count',\n",
    "                         'urls', 'usd_pledged', 'usd_type'],\n",
    "                inplace=True)"
   ]
  },
  {
   "cell_type": "markdown",
   "metadata": {},
   "source": [
    "### Explore Remaining Columns"
   ]
  },
  {
   "cell_type": "code",
   "execution_count": 65,
   "metadata": {},
   "outputs": [
    {
     "name": "stdout",
     "output_type": "stream",
     "text": [
      "<class 'pandas.core.frame.DataFrame'>\n",
      "RangeIndex: 332899 entries, 0 to 332898\n",
      "Data columns (total 19 columns):\n",
      "blurb               332889 non-null object\n",
      "created_at          332899 non-null datetime64[ns]\n",
      "currency            332899 non-null object\n",
      "deadline            332899 non-null datetime64[ns]\n",
      "fx_rate             185035 non-null float64\n",
      "goal                332899 non-null float64\n",
      "id                  332899 non-null int64\n",
      "launched_at         332899 non-null datetime64[ns]\n",
      "name                332898 non-null object\n",
      "state               332899 non-null object\n",
      "state_changed_at    332899 non-null datetime64[ns]\n",
      "sub_category        332899 non-null object\n",
      "overall_category    332899 non-null object\n",
      "city                331832 non-null object\n",
      "country_loc         331832 non-null object\n",
      "state_loc           331832 non-null object\n",
      "creator_name        332899 non-null object\n",
      "creator_slug        332899 non-null object\n",
      "year_month          332899 non-null period[M]\n",
      "dtypes: datetime64[ns](4), float64(2), int64(1), object(11), period[M](1)\n",
      "memory usage: 48.3+ MB\n"
     ]
    }
   ],
   "source": [
    "kick_inter.info()"
   ]
  },
  {
   "cell_type": "markdown",
   "metadata": {},
   "source": [
    "#### Created At"
   ]
  },
  {
   "cell_type": "code",
   "execution_count": 66,
   "metadata": {},
   "outputs": [
    {
     "name": "stdout",
     "output_type": "stream",
     "text": [
      "Earliest Kickstarter Campaign in the Dataset:  2009-04-21 17:35:35\n",
      "Latest Kickstarter Campaign in the Dataset:  2019-07-18 00:54:35\n"
     ]
    }
   ],
   "source": [
    "print('Earliest Kickstarter Campaign in the Dataset: ',\n",
    "      kick_inter.created_at.min())\n",
    "print('Latest Kickstarter Campaign in the Dataset: ', \n",
    "      kick_inter.created_at.max())"
   ]
  },
  {
   "cell_type": "code",
   "execution_count": 68,
   "metadata": {},
   "outputs": [
    {
     "data": {
      "image/png": "[encoded data removed]",
      "text/plain": [
       "<Figure size 1080x720 with 1 Axes>"
      ]
     },
     "metadata": {
      "needs_background": "light"
     },
     "output_type": "display_data"
    }
   ],
   "source": [
    "kick_inter['year_month'] = pd.to_datetime(\n",
    "    kick_inter['created_at']).dt.to_period('Y')\n",
    "created_date_count = kick_inter.year_month.value_counts().to_frame().reset_index().\\\n",
    "    rename(columns={'index': 'date', 'year_month': 'count'})\n",
    "\n",
    "created_date_count.sort_values(by='date', inplace=True)\n",
    "\n",
    "plt.figure(figsize=[15, 10])\n",
    "ax = sns.barplot(created_date_count['date'],\n",
    "                 created_date_count['count'], color='grey')\n",
    "ax.set_xticklabels(ax.get_xticklabels(),\n",
    "                   rotation=40)\n",
    "\n",
    "# plt.locator_params(axis='x', nbins=10)\n",
    "# ax.xaxis.set_major_locator(MultipleLocator(20))\n",
    "plt.xlabel(\"Year Campaign was Created\")\n",
    "plt.ylabel(\"Kickstarter Campaign Count\")\n",
    "plt.title('Histogram of Kickstarter Campaign Launch by Year')\n",
    "\n",
    "plt.show()"
   ]
  },
  {
   "cell_type": "markdown",
   "metadata": {},
   "source": [
    "#### Goal & FX Rate"
   ]
  },
  {
   "cell_type": "code",
   "execution_count": 8,
   "metadata": {},
   "outputs": [
    {
     "data": {
      "text/plain": [
       "14"
      ]
     },
     "execution_count": 8,
     "metadata": {},
     "output_type": "execute_result"
    }
   ],
   "source": [
    "kick_inter['currency'].nunique()"
   ]
  },
  {
   "cell_type": "markdown",
   "metadata": {},
   "source": [
    "The goal column contains 14 different currencies. In order to build an accurate model, we will need to convert all goal amounts to the same currency (USD)."
   ]
  },
  {
   "cell_type": "markdown",
   "metadata": {},
   "source": [
    "#### Overall category"
   ]
  },
  {
   "cell_type": "code",
   "execution_count": 70,
   "metadata": {
    "scrolled": true
   },
   "outputs": [
    {
     "name": "stdout",
     "output_type": "stream",
     "text": [
      "Number of Categories in the \"overall_category\" column:  170\n"
     ]
    }
   ],
   "source": [
    "print('Number of Categories in the \"overall_category\" column: ',\n",
    "      kick_inter['overall_category'].nunique())\n",
    "\n",
    "overallcat_group = kick_inter.groupby('overall_category')['deadline'].\\\n",
    "    count().reset_index().rename(columns={'deadline': 'count'})"
   ]
  },
  {
   "attachments": {},
   "cell_type": "markdown",
   "metadata": {},
   "source": [
    "Kickstarter campaigns fall into 1 of over 170 different overall categories and any number of different sub-categories. Since the information across the two categories is repetitive, we will retain only the overall_categories column."
   ]
  },
  {
   "cell_type": "code",
   "execution_count": 69,
   "metadata": {},
   "outputs": [
    {
     "name": "stdout",
     "output_type": "stream",
     "text": [
      "\n",
      " Top 10 Categories in overall_category column:\n"
     ]
    },
    {
     "data": {
      "text/html": [
       "<div>\n",
       "<style scoped>\n",
       "    .dataframe tbody tr th:only-of-type {\n",
       "        vertical-align: middle;\n",
       "    }\n",
       "\n",
       "    .dataframe tbody tr th {\n",
       "        vertical-align: top;\n",
       "    }\n",
       "\n",
       "    .dataframe thead th {\n",
       "        text-align: right;\n",
       "    }\n",
       "</style>\n",
       "<table border=\"1\" class=\"dataframe\">\n",
       "  <thead>\n",
       "    <tr style=\"text-align: right;\">\n",
       "      <th></th>\n",
       "      <th>overall_category</th>\n",
       "      <th>count</th>\n",
       "    </tr>\n",
       "  </thead>\n",
       "  <tbody>\n",
       "    <tr>\n",
       "      <td>44</td>\n",
       "      <td>design/product design</td>\n",
       "      <td>18839</td>\n",
       "    </tr>\n",
       "    <tr>\n",
       "      <td>94</td>\n",
       "      <td>games/tabletop games</td>\n",
       "      <td>15431</td>\n",
       "    </tr>\n",
       "    <tr>\n",
       "      <td>95</td>\n",
       "      <td>games/video games</td>\n",
       "      <td>10717</td>\n",
       "    </tr>\n",
       "    <tr>\n",
       "      <td>135</td>\n",
       "      <td>publishing/fiction</td>\n",
       "      <td>8906</td>\n",
       "    </tr>\n",
       "    <tr>\n",
       "      <td>48</td>\n",
       "      <td>fashion/apparel</td>\n",
       "      <td>8881</td>\n",
       "    </tr>\n",
       "  </tbody>\n",
       "</table>\n",
       "</div>"
      ],
      "text/plain": [
       "          overall_category  count\n",
       "44   design/product design  18839\n",
       "94    games/tabletop games  15431\n",
       "95       games/video games  10717\n",
       "135     publishing/fiction   8906\n",
       "48         fashion/apparel   8881"
      ]
     },
     "execution_count": 69,
     "metadata": {},
     "output_type": "execute_result"
    }
   ],
   "source": [
    "print('\\n Top 10 Categories in overall_category column:')\n",
    "overallcat_group.sort_values('count', ascending=False).head(5)"
   ]
  },
  {
   "cell_type": "code",
   "execution_count": 71,
   "metadata": {},
   "outputs": [
    {
     "data": {
      "text/plain": [
       "overall_category       state     \n",
       "design/product design  live           8210\n",
       "                       successful    10629\n",
       "fashion/apparel        canceled        497\n",
       "                       failed         5522\n",
       "                       live            937\n",
       "                       successful     1906\n",
       "                       suspended        19\n",
       "games/tabletop games   live           3752\n",
       "                       successful    11679\n",
       "games/video games      failed         4957\n",
       "                       live           2862\n",
       "                       successful     2898\n",
       "publishing/fiction     failed         5071\n",
       "                       live           1250\n",
       "                       successful     2585\n",
       "Name: overall_category, dtype: int64"
      ]
     },
     "execution_count": 71,
     "metadata": {},
     "output_type": "execute_result"
    }
   ],
   "source": [
    "mask_overall = (kick_inter['overall_category'] == 'games/tabletop games') |\\\n",
    "    (kick_inter['overall_category'] == 'design/product design') |\\\n",
    "    (kick_inter['overall_category'] == 'fashion/apparel') |\\\n",
    "    (kick_inter['overall_category'] == 'games/video games') |\\\n",
    "    (kick_inter['overall_category'] == 'publishing/fiction')\n",
    "\n",
    "kick_inter.loc[mask_overall].groupby(['overall_category', 'state'])[\n",
    "    'overall_category'].count()"
   ]
  },
  {
   "attachments": {},
   "cell_type": "markdown",
   "metadata": {},
   "source": [
    "### Location (city/ state/ country)\n",
    "There are 211 countries listed in the dataset. This column will need to be coded as a dummy variable before training our model. In order to reduce the number of overall features (and help preserve model interpretability) we will collapse the countries into world regions during feature engineering."
   ]
  },
  {
   "cell_type": "code",
   "execution_count": 72,
   "metadata": {},
   "outputs": [
    {
     "name": "stdout",
     "output_type": "stream",
     "text": [
      "Number of Countries that have produced a Kickstarter campaign:  211\n",
      "Number of Cities that have produced a Kickstarter Campaign:  12685\n"
     ]
    }
   ],
   "source": [
    "print('Number of Countries that have produced a Kickstarter campaign: ',\n",
    "      kick_inter.country_loc.nunique())\n",
    "print('Number of Cities that have produced a Kickstarter Campaign: ',\n",
    "      kick_inter.city.nunique())"
   ]
  },
  {
   "attachments": {},
   "cell_type": "markdown",
   "metadata": {},
   "source": [
    "## Feature Construction\n",
    "After taking a look at the columns in our dataset, we have narrowed down the final list of features for model training.\n",
    "\n",
    "**Final Features**\n",
    "\n",
    "1. Blurb word count\n",
    "1. Campaign length\n",
    "1. Currency\n",
    "1. Goal (converted to USD)\n",
    "1. Delta between created_at and launched_at columns\n",
    "1. overall category\n",
    "1. Country\n",
    "1. **state** [Target Variable]"
   ]
  },
  {
   "cell_type": "markdown",
   "metadata": {},
   "source": [
    "**Note**: ``kickstarter_feature_engineering`` function can be found in the ``src/d02_preprocessing/feature_engineering.py`` file."
   ]
  },
  {
   "cell_type": "code",
   "execution_count": 14,
   "metadata": {},
   "outputs": [],
   "source": [
    "kick_proc = kickstarter_feature_engineering(kick_inter)\n",
    "kick_proc.head()"
   ]
  },
  {
   "cell_type": "markdown",
   "metadata": {},
   "source": [
    "## Model Exploration & Tuning"
   ]
  },
  {
   "cell_type": "code",
   "execution_count": 16,
   "metadata": {},
   "outputs": [],
   "source": [
    "from sklearn.model_selection import train_test_split, RandomizedSearchCV, GridSearchCV\n",
    "from sklearn.tree import DecisionTreeClassifier\n",
    "from sklearn.ensemble import RandomForestClassifier, AdaBoostClassifier\n",
    "from sklearn.naive_bayes import BernoulliNB, GaussianNB\n",
    "from sklearn.metrics import accuracy_score, confusion_matrix, precision_score\n",
    "from sklearn.pipeline import Pipeline\n",
    "from sklearn.linear_model import LogisticRegression\n",
    "from sklearn.preprocessing import StandardScaler"
   ]
  },
  {
   "attachments": {},
   "cell_type": "markdown",
   "metadata": {},
   "source": [
    "We have chosen six different learning algorithms to test: decision tree, random forest, Adaboost, linear regression, Gaussian Naive Bayes, and Bernoulli Naive Bayes. Because we want to ensure that Kickstarter will focus on those campaigns most likely to benefit from promotion, we will focus on choosing the model with the lowest number of false positives (i.e., the model with the lowest number of campaigns that are falsely identified as successful). Because of this, we will be maximizing our model for precision."
   ]
  },
  {
   "cell_type": "code",
   "execution_count": 17,
   "metadata": {},
   "outputs": [
    {
     "name": "stdout",
     "output_type": "stream",
     "text": [
      "Number of Rows before dropping NAs:  275651\n",
      "Number of Rows after dropping NAs:  275642\n"
     ]
    }
   ],
   "source": [
    "print('Number of Rows before dropping NAs: ', len(kick_proc))\n",
    "kick_proc.dropna(inplace=True)\n",
    "print('Number of Rows after dropping NAs: ', len(kick_proc))"
   ]
  },
  {
   "attachments": {},
   "cell_type": "markdown",
   "metadata": {},
   "source": [
    "Split the dataset into the outcome variable (variable that shows whether the campaign was successful or not) and the categories we will use to predict the campaigns probability of success."
   ]
  },
  {
   "cell_type": "code",
   "execution_count": 18,
   "metadata": {},
   "outputs": [
    {
     "data": {
      "text/plain": [
       "1    146584\n",
       "0    129058\n",
       "Name: successful_dummy, dtype: int64"
      ]
     },
     "execution_count": 18,
     "metadata": {},
     "output_type": "execute_result"
    }
   ],
   "source": [
    "X_feats = ['category', 'blurb_word_count', 'campaign_length',\n",
    "           'delta_created_launched', 'goal_usd', 'world_regions']\n",
    "\n",
    "X, y = data_split(kick_proc, 'successful_dummy', X_feats)\n",
    "\n",
    "y.value_counts()"
   ]
  },
  {
   "cell_type": "markdown",
   "metadata": {},
   "source": [
    "The outcome variable is relatively balanced. We will not use any re-balancing techniques for now."
   ]
  },
  {
   "cell_type": "markdown",
   "metadata": {},
   "source": [
    "### Baseline Model - Decision Tree"
   ]
  },
  {
   "cell_type": "markdown",
   "metadata": {},
   "source": [
    "**Note**: ``modelSelection`` class can be found in the ``src/d03_models/model_class.py`` file."
   ]
  },
  {
   "cell_type": "code",
   "execution_count": 19,
   "metadata": {},
   "outputs": [
    {
     "name": "stdout",
     "output_type": "stream",
     "text": [
      "Acccuracy Score:  0.7026599526926035\n",
      "Precision:  0.7218255711775043\n",
      "Recall:  0.7172952027506413\n",
      "\n",
      "\n",
      "Confusion Matrix:\n",
      "          predicted 0  predicted 1\n",
      "actual 0        22135        10130\n",
      "actual 1        10360        26286\n"
     ]
    }
   ],
   "source": [
    "dtc = DecisionTreeClassifier(random_state=88)\n",
    "dtc_selection = modelSelection(dtc, 'Decision Tree', X, y)\n",
    "dtc_selection.train_test_split_func()\n",
    "dtc_selection.fit_func()\n",
    "dtc_selection.predict_func()\n",
    "dtc_selection.model_evaluation()"
   ]
  },
  {
   "cell_type": "markdown",
   "metadata": {},
   "source": [
    "### Bagging Model - Random Forest"
   ]
  },
  {
   "cell_type": "code",
   "execution_count": 20,
   "metadata": {},
   "outputs": [],
   "source": [
    "X_train, X_test, y_train, y_test = train_test_split(\n",
    "    X, y, stratify=y, random_state=88)"
   ]
  },
  {
   "cell_type": "markdown",
   "metadata": {},
   "source": [
    "#### Parameter tuning"
   ]
  },
  {
   "cell_type": "markdown",
   "metadata": {},
   "source": [
    "```python\n",
    "steps = [('rfc', RandomForestClassifier())]\n",
    "\n",
    "pipeline = Pipeline(steps)\n",
    "\n",
    "parameters = {'rfc__n_estimators': list(range(1, 200, 5)),\n",
    "              'rfc__criterion': ['gini', 'entropy'],\n",
    "              'rfc__max_depth': list(range(1, 10, 1)),\n",
    "              'rfc__min_samples_split': list(range(2, 10, 1)),\n",
    "              'rfc__min_samples_leaf': list(range(1, 5, 1))}\n",
    "\n",
    "randomCV_rfc = RandomizedSearchCV(pipeline, parameters, cv=10)\n",
    "\n",
    "randomCV_rfc.fit(X_train, y_train)\n",
    "\n",
    "randomCV_rfc.best_params_\n",
    "```"
   ]
  },
  {
   "cell_type": "code",
   "execution_count": 21,
   "metadata": {},
   "outputs": [],
   "source": [
    "rfc = RandomForestClassifier(n_estimators=166, min_samples_split=5, min_samples_leaf=2,\n",
    "                             max_depth=6, criterion='entropy', random_state=88)\n",
    "\n",
    "rfc_selection = modelSelection(rfc, 'Random Forest', X, y)"
   ]
  },
  {
   "cell_type": "code",
   "execution_count": 22,
   "metadata": {},
   "outputs": [
    {
     "name": "stdout",
     "output_type": "stream",
     "text": [
      "Acccuracy Score:  0.7179405319905385\n",
      "Precision:  0.6944212215016834\n",
      "Recall:  0.8386454183266933\n",
      "\n",
      "\n",
      "Confusion Matrix:\n",
      "          predicted 0  predicted 1\n",
      "actual 0        18741        13524\n",
      "actual 1         5913        30733\n"
     ]
    }
   ],
   "source": [
    "rfc_selection.train_test_split_func()\n",
    "rfc_selection.fit_func()\n",
    "rfc_selection.predict_func()\n",
    "rfc_selection.model_evaluation()"
   ]
  },
  {
   "cell_type": "markdown",
   "metadata": {},
   "source": [
    "### Boosting Models - Adaboost"
   ]
  },
  {
   "cell_type": "markdown",
   "metadata": {},
   "source": [
    "#### Parameter Tuning"
   ]
  },
  {
   "cell_type": "markdown",
   "metadata": {},
   "source": [
    "```python\n",
    "steps = [('abc', AdaBoostClassifier())]\n",
    "\n",
    "pipeline = Pipeline(steps)\n",
    "\n",
    "parameters = {'n_estimators': list(np.arange(100, 200, 10))}\n",
    "\n",
    "randomCV_abc = RandomizedSearchCV(AdaBoostClassifier(), parameters, cv=5)\n",
    "\n",
    "randomCV_abc.fit(X_train, y_train)\n",
    "\n",
    "randomCV_abc.best_params_\n",
    "```"
   ]
  },
  {
   "cell_type": "code",
   "execution_count": 23,
   "metadata": {},
   "outputs": [],
   "source": [
    "abc = RandomForestClassifier(n_estimators=190, random_state=88)\n",
    "\n",
    "abc_selection = modelSelection(abc, 'AdaBoost', X, y)"
   ]
  },
  {
   "cell_type": "code",
   "execution_count": 24,
   "metadata": {},
   "outputs": [
    {
     "name": "stdout",
     "output_type": "stream",
     "text": [
      "Acccuracy Score:  0.7534210793632367\n",
      "Precision:  0.7799555580878582\n",
      "Recall:  0.7470938165147629\n",
      "\n",
      "\n",
      "Confusion Matrix:\n",
      "          predicted 0  predicted 1\n",
      "actual 0        24541         7724\n",
      "actual 1         9268        27378\n"
     ]
    }
   ],
   "source": [
    "abc_selection.train_test_split_func()\n",
    "abc_selection.fit_func()\n",
    "abc_selection.predict_func()\n",
    "abc_selection.model_evaluation()"
   ]
  },
  {
   "cell_type": "markdown",
   "metadata": {},
   "source": [
    "### Logistic Regression Model"
   ]
  },
  {
   "cell_type": "markdown",
   "metadata": {},
   "source": [
    "#### Parameter Tuning"
   ]
  },
  {
   "cell_type": "markdown",
   "metadata": {},
   "source": [
    "```python\n",
    "parameters = dict(C=np.logspace(0, 4, 10), penalty=['l1', 'l2'])\n",
    "\n",
    "randomCV_lrc = RandomizedSearchCV(LogisticRegression(), parameters, cv=5)\n",
    "randomCV_lrc.fit(X_train, y_train)\n",
    "\n",
    "randomCV_lrc.best_params_\n",
    "```"
   ]
  },
  {
   "cell_type": "code",
   "execution_count": 25,
   "metadata": {},
   "outputs": [],
   "source": [
    "lrc = LogisticRegression(penalty='l1', C=1.0, random_state=88)\n",
    "\n",
    "lrc_selection = modelSelection(lrc, 'Logistic Regression', X, y)"
   ]
  },
  {
   "cell_type": "code",
   "execution_count": 26,
   "metadata": {},
   "outputs": [
    {
     "name": "stdout",
     "output_type": "stream",
     "text": [
      "Acccuracy Score:  0.7460492519336536\n",
      "Precision:  0.7986150102938424\n",
      "Recall:  0.6986301369863014\n",
      "\n",
      "\n",
      "Confusion Matrix:\n",
      "          predicted 0  predicted 1\n",
      "actual 0        25809         6456\n",
      "actual 1        11044        25602\n"
     ]
    }
   ],
   "source": [
    "lrc_selection.train_test_split_func()\n",
    "lrc_selection.fit_func()\n",
    "lrc_selection.predict_func()\n",
    "lrc_selection.model_evaluation()"
   ]
  },
  {
   "cell_type": "markdown",
   "metadata": {},
   "source": [
    "### Gaussian Naive Bayes"
   ]
  },
  {
   "cell_type": "code",
   "execution_count": 27,
   "metadata": {},
   "outputs": [],
   "source": [
    "gnb = GaussianNB()\n",
    "\n",
    "gnb_selection = modelSelection(gnb, 'Gaussian Naive Bayes', X, y)"
   ]
  },
  {
   "cell_type": "code",
   "execution_count": 28,
   "metadata": {},
   "outputs": [
    {
     "name": "stdout",
     "output_type": "stream",
     "text": [
      "Acccuracy Score:  0.5563117644497976\n",
      "Precision:  0.5456857757777342\n",
      "Recall:  0.9893849260492278\n",
      "\n",
      "\n",
      "Confusion Matrix:\n",
      "          predicted 0  predicted 1\n",
      "actual 0         2079        30186\n",
      "actual 1          389        36257\n"
     ]
    }
   ],
   "source": [
    "gnb_selection.train_test_split_func()\n",
    "gnb_selection.fit_func()\n",
    "gnb_selection.predict_func()\n",
    "gnb_selection.model_evaluation()"
   ]
  },
  {
   "cell_type": "markdown",
   "metadata": {},
   "source": [
    "### Bernoulli Naive Bayes"
   ]
  },
  {
   "cell_type": "code",
   "execution_count": 29,
   "metadata": {},
   "outputs": [],
   "source": [
    "bnb = BernoulliNB()\n",
    "\n",
    "bnb_selection = modelSelection(bnb, 'Bernoulli Naive Bayes', X, y)"
   ]
  },
  {
   "cell_type": "code",
   "execution_count": 30,
   "metadata": {},
   "outputs": [
    {
     "name": "stdout",
     "output_type": "stream",
     "text": [
      "Acccuracy Score:  0.734062776624922\n",
      "Precision:  0.7911633820724729\n",
      "Recall:  0.6792010042023686\n",
      "\n",
      "\n",
      "Confusion Matrix:\n",
      "          predicted 0  predicted 1\n",
      "actual 0        25695         6570\n",
      "actual 1        11756        24890\n"
     ]
    }
   ],
   "source": [
    "bnb_selection.train_test_split_func()\n",
    "bnb_selection.fit_func()\n",
    "bnb_selection.predict_func()\n",
    "bnb_selection.model_evaluation()"
   ]
  },
  {
   "cell_type": "markdown",
   "metadata": {},
   "source": [
    "## Model Selection"
   ]
  },
  {
   "attachments": {},
   "cell_type": "markdown",
   "metadata": {},
   "source": [
    "Model selection is based on two criteria: \n",
    "1. Precision Score \n",
    "1. Ease of model Interpretability. \n",
    "\n",
    "We have chosen to focus on the precision score instead of accuracy and recall. Our assumption is that each campaign promotion is associated with some cost, so we need to try and ensure that the campaigns that are deemed as highly probable to be successful actually fit into that category. Because this model needs to be explained to non-technical people, we also need to ensure that the explanation of how the model is making choices is relatively intuitive."
   ]
  },
  {
   "cell_type": "code",
   "execution_count": 32,
   "metadata": {
    "scrolled": false
   },
   "outputs": [
    {
     "name": "stdout",
     "output_type": "stream",
     "text": [
      "--------------------Decision Tree-----------------------\n",
      "Precision Score:  0.7218255711775043\n",
      "\n",
      "\n",
      "--------------------Random Forest-----------------------\n",
      "Precision Score:  0.6944212215016834\n",
      "\n",
      "\n",
      "--------------------AdaBoost-----------------------\n",
      "Precision Score:  0.7799555580878582\n",
      "\n",
      "\n",
      "--------------------Logistic Regression-----------------------\n",
      "Precision Score:  0.7986150102938424\n",
      "\n",
      "\n",
      "--------------------Gaussian Naive Bayes-----------------------\n",
      "Precision Score:  0.5456857757777342\n",
      "\n",
      "\n",
      "--------------------Bernoulli Naive Bayes-----------------------\n",
      "Precision Score:  0.7911633820724729\n",
      "\n",
      "\n"
     ]
    }
   ],
   "source": [
    "models = [dtc_selection, rfc_selection, abc_selection,\n",
    "          lrc_selection, gnb_selection, bnb_selection]\n",
    "\n",
    "for model in models:\n",
    "    print('--------------------{}-----------------------'.format(model.algorithm_name))\n",
    "    print('Precision Score: ', model.precision)\n",
    "    print('\\n')"
   ]
  },
  {
   "attachments": {},
   "cell_type": "markdown",
   "metadata": {},
   "source": [
    "After testing 6 different models, the logistic regression model is chosen based both on its high precision score and interpretability. Let's train our final model with the entire training dataset and take a closer look at what variables are important."
   ]
  },
  {
   "cell_type": "code",
   "execution_count": 33,
   "metadata": {},
   "outputs": [
    {
     "data": {
      "text/plain": [
       "LogisticRegression(C=1.0, class_weight=None, dual=False, fit_intercept=True,\n",
       "                   intercept_scaling=1, l1_ratio=None, max_iter=100,\n",
       "                   multi_class='warn', n_jobs=None, penalty='l1',\n",
       "                   random_state=88, solver='warn', tol=0.0001, verbose=0,\n",
       "                   warm_start=False)"
      ]
     },
     "execution_count": 33,
     "metadata": {},
     "output_type": "execute_result"
    }
   ],
   "source": [
    "final_model_lrc = LogisticRegression(penalty='l1', C=1.0, random_state=88)\n",
    "final_model_lrc.fit(X, y)"
   ]
  },
  {
   "attachments": {},
   "cell_type": "markdown",
   "metadata": {},
   "source": [
    "From the chart below, we can see that the top 5 highest and 5 lowest variable coefficients are all based on campaign category."
   ]
  },
  {
   "cell_type": "code",
   "execution_count": 64,
   "metadata": {},
   "outputs": [
    {
     "data": {
      "text/html": [
       "<div>\n",
       "<style scoped>\n",
       "    .dataframe tbody tr th:only-of-type {\n",
       "        vertical-align: middle;\n",
       "    }\n",
       "\n",
       "    .dataframe tbody tr th {\n",
       "        vertical-align: top;\n",
       "    }\n",
       "\n",
       "    .dataframe thead th {\n",
       "        text-align: right;\n",
       "    }\n",
       "</style>\n",
       "<table border=\"1\" class=\"dataframe\">\n",
       "  <thead>\n",
       "    <tr style=\"text-align: right;\">\n",
       "      <th></th>\n",
       "      <th>coef</th>\n",
       "    </tr>\n",
       "  </thead>\n",
       "  <tbody>\n",
       "    <tr>\n",
       "      <td>category_Product Design</td>\n",
       "      <td>11.549174</td>\n",
       "    </tr>\n",
       "    <tr>\n",
       "      <td>category_Documentary</td>\n",
       "      <td>9.640988</td>\n",
       "    </tr>\n",
       "    <tr>\n",
       "      <td>category_Tabletop Games</td>\n",
       "      <td>9.635433</td>\n",
       "    </tr>\n",
       "    <tr>\n",
       "      <td>category_Shorts</td>\n",
       "      <td>8.950091</td>\n",
       "    </tr>\n",
       "    <tr>\n",
       "      <td>category_Theater</td>\n",
       "      <td>8.200317</td>\n",
       "    </tr>\n",
       "    <tr>\n",
       "      <td>...</td>\n",
       "      <td>...</td>\n",
       "    </tr>\n",
       "    <tr>\n",
       "      <td>category_Video</td>\n",
       "      <td>-1.614994</td>\n",
       "    </tr>\n",
       "    <tr>\n",
       "      <td>category_Candles</td>\n",
       "      <td>-1.665856</td>\n",
       "    </tr>\n",
       "    <tr>\n",
       "      <td>category_Web</td>\n",
       "      <td>-1.796771</td>\n",
       "    </tr>\n",
       "    <tr>\n",
       "      <td>category_Mobile Games</td>\n",
       "      <td>-1.921873</td>\n",
       "    </tr>\n",
       "    <tr>\n",
       "      <td>category_Apps</td>\n",
       "      <td>-2.136614</td>\n",
       "    </tr>\n",
       "  </tbody>\n",
       "</table>\n",
       "<p>186 rows × 1 columns</p>\n",
       "</div>"
      ],
      "text/plain": [
       "                              coef\n",
       "category_Product Design  11.549174\n",
       "category_Documentary      9.640988\n",
       "category_Tabletop Games   9.635433\n",
       "category_Shorts           8.950091\n",
       "category_Theater          8.200317\n",
       "...                            ...\n",
       "category_Video           -1.614994\n",
       "category_Candles         -1.665856\n",
       "category_Web             -1.796771\n",
       "category_Mobile Games    -1.921873\n",
       "category_Apps            -2.136614\n",
       "\n",
       "[186 rows x 1 columns]"
      ]
     },
     "execution_count": 64,
     "metadata": {},
     "output_type": "execute_result"
    }
   ],
   "source": [
    "pd.DataFrame(data=final_model_lrc.coef_.tolist()[0], \n",
    "             index=list(X.columns), columns=['coef']).sort_values(by='coef', \n",
    "                                                                  ascending=False)"
   ]
  },
  {
   "attachments": {},
   "cell_type": "markdown",
   "metadata": {},
   "source": [
    "## Conclusion & Next Steps\n",
    "After testing 6 different models, logistic regression was chosen for both its high precision score and ease of interpretation. \n",
    "\n",
    "Next, we would build an algorithm that calculates the expected value of revenue from investing in a campaign based on both the predicted probability of success and the cost of promotion. This algorithm would then drive Kickstarter’s promotion decisions. "
   ]
  }
 ],
 "metadata": {
  "kernelspec": {
   "display_name": "Python 3",
   "language": "python",
   "name": "python3"
  },
  "language_info": {
   "codemirror_mode": {
    "name": "ipython",
    "version": 3
   },
   "file_extension": ".py",
   "mimetype": "text/x-python",
   "name": "python",
   "nbconvert_exporter": "python",
   "pygments_lexer": "ipython3",
   "version": "3.7.4"
  },
  "toc": {
   "base_numbering": 1,
   "nav_menu": {},
   "number_sections": true,
   "sideBar": true,
   "skip_h1_title": true,
   "title_cell": "Table of Contents",
   "title_sidebar": "Contents",
   "toc_cell": false,
   "toc_position": {
    "height": "calc(100% - 180px)",
    "left": "10px",
    "top": "150px",
    "width": "279.631px"
   },
   "toc_section_display": true,
   "toc_window_display": true
  }
 },
 "nbformat": 4,
 "nbformat_minor": 2
}
